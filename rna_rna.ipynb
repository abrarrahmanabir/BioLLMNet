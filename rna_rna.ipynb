{
 "cells": [
  {
   "cell_type": "code",
   "execution_count": 1,
   "metadata": {},
   "outputs": [],
   "source": [
    "import pickle\n",
    "\n",
    "train_set_1_incrna_embeddings = pickle.load(open(r\"C:\\Research\\MultiModal_Biological_LLM\\Datasets\\RNA_RNA\\train_set_1_incrna_embeddings\", \"rb\"))\n",
    "train_set_2_incrna_embeddings = pickle.load(open(r\"C:\\Research\\MultiModal_Biological_LLM\\Datasets\\RNA_RNA\\train_set_2_incrna_embeddings\", \"rb\"))\n",
    "train_set_3_incrna_embeddings = pickle.load(open(r\"C:\\Research\\MultiModal_Biological_LLM\\Datasets\\RNA_RNA\\train_set_3_incrna_embeddings\", \"rb\"))\n",
    "train_set_4_incrna_embeddings = pickle.load(open(r\"C:\\Research\\MultiModal_Biological_LLM\\Datasets\\RNA_RNA\\train_set_4_incrna_embeddings\", \"rb\"))\n",
    "train_set_5_incrna_embeddings = pickle.load(open(r\"C:\\Research\\MultiModal_Biological_LLM\\Datasets\\RNA_RNA\\train_set_5_incrna_embeddings\", \"rb\"))\n",
    "train_set_6_incrna_embeddings = pickle.load(open(r\"C:\\Research\\MultiModal_Biological_LLM\\Datasets\\RNA_RNA\\train_set_6_incrna_embeddings\", \"rb\"))\n",
    "\n",
    "\n",
    "test_set_1_incrna_embeddings = pickle.load(open(r\"C:\\Research\\MultiModal_Biological_LLM\\Datasets\\RNA_RNA\\test_set_1_incrna_embeddings\", \"rb\"))\n",
    "test_set_2_incrna_embeddings = pickle.load(open(r\"C:\\Research\\MultiModal_Biological_LLM\\Datasets\\RNA_RNA\\test_set_2_incrna_embeddings\", \"rb\"))\n",
    "test_set_3_incrna_embeddings = pickle.load(open(r\"C:\\Research\\MultiModal_Biological_LLM\\Datasets\\RNA_RNA\\test_set_3_incrna_embeddings\", \"rb\"))\n",
    "test_set_4_incrna_embeddings = pickle.load(open(r\"C:\\Research\\MultiModal_Biological_LLM\\Datasets\\RNA_RNA\\test_set_4_incrna_embeddings\", \"rb\"))\n",
    "test_set_5_incrna_embeddings = pickle.load(open(r\"C:\\Research\\MultiModal_Biological_LLM\\Datasets\\RNA_RNA\\test_set_5_incrna_embeddings\", \"rb\"))\n",
    "test_set_6_incrna_embeddings = pickle.load(open(r\"C:\\Research\\MultiModal_Biological_LLM\\Datasets\\RNA_RNA\\test_set_6_incrna_embeddings\", \"rb\"))\n",
    "\n",
    "\n",
    "train_set_1_mirna_embeddings = pickle.load(open(r\"C:\\Research\\MultiModal_Biological_LLM\\Datasets\\RNA_RNA\\train_set_1_mirna_embeddings\", \"rb\"))\n",
    "train_set_2_mirna_embeddings = pickle.load(open(r\"C:\\Research\\MultiModal_Biological_LLM\\Datasets\\RNA_RNA\\train_set_2_mirna_embeddings\", \"rb\"))\n",
    "train_set_3_mirna_embeddings = pickle.load(open(r\"C:\\Research\\MultiModal_Biological_LLM\\Datasets\\RNA_RNA\\train_set_3_mirna_embeddings\", \"rb\"))\n",
    "train_set_4_mirna_embeddings = pickle.load(open(r\"C:\\Research\\MultiModal_Biological_LLM\\Datasets\\RNA_RNA\\train_set_4_mirna_embeddings\", \"rb\"))\n",
    "train_set_5_mirna_embeddings = pickle.load(open(r\"C:\\Research\\MultiModal_Biological_LLM\\Datasets\\RNA_RNA\\train_set_5_mirna_embeddings\", \"rb\"))\n",
    "train_set_6_mirna_embeddings = pickle.load(open(r\"C:\\Research\\MultiModal_Biological_LLM\\Datasets\\RNA_RNA\\train_set_6_mirna_embeddings\", \"rb\"))\n",
    "\n",
    "test_set_1_mirna_embeddings = pickle.load(open(r\"C:\\Research\\MultiModal_Biological_LLM\\Datasets\\RNA_RNA\\test_set_1_mirna_embeddings\", \"rb\"))\n",
    "test_set_2_mirna_embeddings = pickle.load(open(r\"C:\\Research\\MultiModal_Biological_LLM\\Datasets\\RNA_RNA\\test_set_2_mirna_embeddings\", \"rb\"))\n",
    "test_set_3_mirna_embeddings = pickle.load(open(r\"C:\\Research\\MultiModal_Biological_LLM\\Datasets\\RNA_RNA\\test_set_3_mirna_embeddings\", \"rb\"))\n",
    "test_set_4_mirna_embeddings = pickle.load(open(r\"C:\\Research\\MultiModal_Biological_LLM\\Datasets\\RNA_RNA\\test_set_4_mirna_embeddings\", \"rb\"))\n",
    "test_set_5_mirna_embeddings = pickle.load(open(r\"C:\\Research\\MultiModal_Biological_LLM\\Datasets\\RNA_RNA\\test_set_5_mirna_embeddings\", \"rb\"))\n",
    "test_set_6_mirna_embeddings = pickle.load(open(r\"C:\\Research\\MultiModal_Biological_LLM\\Datasets\\RNA_RNA\\test_set_6_mirna_embeddings\", \"rb\"))\n",
    "\n",
    "\n"
   ]
  },
  {
   "cell_type": "code",
   "execution_count": null,
   "metadata": {},
   "outputs": [],
   "source": []
  },
  {
   "cell_type": "code",
   "execution_count": 11,
   "metadata": {},
   "outputs": [],
   "source": [
    "train_set_1_labels = pickle.load(open(r\"C:\\Research\\MultiModal_Biological_LLM\\Datasets\\RNA_RNA\\train_set_1_labels\", \"rb\"))  \n",
    "train_set_2_labels = pickle.load(open(r\"C:\\Research\\MultiModal_Biological_LLM\\Datasets\\RNA_RNA\\train_set_2_labels\", \"rb\"))\n",
    "train_set_3_labels = pickle.load(open(r\"C:\\Research\\MultiModal_Biological_LLM\\Datasets\\RNA_RNA\\train_set_3_labels\", \"rb\"))\n",
    "train_set_4_labels = pickle.load(open(r\"C:\\Research\\MultiModal_Biological_LLM\\Datasets\\RNA_RNA\\train_set_4_labels\", \"rb\"))\n",
    "train_set_5_labels = pickle.load(open(r\"C:\\Research\\MultiModal_Biological_LLM\\Datasets\\RNA_RNA\\train_set_5_labels\", \"rb\"))\n",
    "train_set_6_labels = pickle.load(open(r\"C:\\Research\\MultiModal_Biological_LLM\\Datasets\\RNA_RNA\\train_set_6_labels\", \"rb\"))\n",
    "\n",
    "test_set_1_labels = pickle.load(open(r\"C:\\Research\\MultiModal_Biological_LLM\\Datasets\\RNA_RNA\\test_set_1_labels\", \"rb\"))\n",
    "test_set_2_labels = pickle.load(open(r\"C:\\Research\\MultiModal_Biological_LLM\\Datasets\\RNA_RNA\\test_set_2_labels\", \"rb\"))\n",
    "test_set_3_labels = pickle.load(open(r\"C:\\Research\\MultiModal_Biological_LLM\\Datasets\\RNA_RNA\\test_set_3_labels\", \"rb\"))\n",
    "test_set_4_labels = pickle.load(open(r\"C:\\Research\\MultiModal_Biological_LLM\\Datasets\\RNA_RNA\\test_set_4_labels\", \"rb\"))\n",
    "test_set_5_labels = pickle.load(open(r\"C:\\Research\\MultiModal_Biological_LLM\\Datasets\\RNA_RNA\\test_set_5_labels\", \"rb\"))\n",
    "test_set_6_labels = pickle.load(open(r\"C:\\Research\\MultiModal_Biological_LLM\\Datasets\\RNA_RNA\\test_set_6_labels\", \"rb\"))\n"
   ]
  },
  {
   "cell_type": "code",
   "execution_count": null,
   "metadata": {},
   "outputs": [],
   "source": []
  },
  {
   "cell_type": "code",
   "execution_count": 23,
   "metadata": {},
   "outputs": [],
   "source": [
    "import torch\n",
    "from torch.utils.data import Dataset, DataLoader\n",
    "\n",
    "class InteractionDataset(Dataset):\n",
    "    def __init__(self, interaction_data, interaction_labels):\n",
    "        \"\"\"\n",
    "        Args:\n",
    "            interaction_data (list): A list where each item is another list containing\n",
    "                                     the mirna as the first element and\n",
    "                                     the incrna embeddings as the second element.\n",
    "            interaction_labels (list): A list of labels (0 or 1).\n",
    "        \"\"\"\n",
    "        self.interaction_data = interaction_data\n",
    "        self.interaction_labels = interaction_labels\n",
    "\n",
    "    def __len__(self):\n",
    "        return len(self.interaction_labels)\n",
    "\n",
    "    def __getitem__(self, idx):\n",
    "        mirna_emb, incrna_emb = self.interaction_data[idx]\n",
    "        label = self.interaction_labels[idx]\n",
    "        label = torch.tensor(int(label))    \n",
    "        return (mirna_emb.squeeze(0), incrna_emb), label\n",
    "\n",
    "interaction_dataset_train_1 = InteractionDataset(list(zip(train_set_1_mirna_embeddings, train_set_1_incrna_embeddings)), train_set_1_labels)\n",
    "interaction_dataset_train_2 = InteractionDataset(list(zip(train_set_2_mirna_embeddings, train_set_2_incrna_embeddings)), train_set_2_labels)\n",
    "interaction_dataset_train_3 = InteractionDataset(list(zip(train_set_3_mirna_embeddings, train_set_3_incrna_embeddings)), train_set_3_labels)\n",
    "interaction_dataset_train_4 = InteractionDataset(list(zip(train_set_4_mirna_embeddings, train_set_4_incrna_embeddings)), train_set_4_labels)\n",
    "interaction_dataset_train_5 = InteractionDataset(list(zip(train_set_5_mirna_embeddings, train_set_5_incrna_embeddings)), train_set_5_labels)\n",
    "interaction_dataset_train_6 = InteractionDataset(list(zip(train_set_6_mirna_embeddings, train_set_6_incrna_embeddings)), train_set_6_labels)\n",
    "\n",
    "interaction_dataset_test_1 = InteractionDataset(list(zip(test_set_1_mirna_embeddings, test_set_1_incrna_embeddings)), test_set_1_labels)\n",
    "interaction_dataset_test_2 = InteractionDataset(list(zip(test_set_2_mirna_embeddings, test_set_2_incrna_embeddings)), test_set_2_labels)\n",
    "interaction_dataset_test_3 = InteractionDataset(list(zip(test_set_3_mirna_embeddings, test_set_3_incrna_embeddings)), test_set_3_labels)\n",
    "interaction_dataset_test_4 = InteractionDataset(list(zip(test_set_4_mirna_embeddings, test_set_4_incrna_embeddings)), test_set_4_labels)\n",
    "interaction_dataset_test_5 = InteractionDataset(list(zip(test_set_5_mirna_embeddings, test_set_5_incrna_embeddings)), test_set_5_labels)\n",
    "interaction_dataset_test_6 = InteractionDataset(list(zip(test_set_6_mirna_embeddings, test_set_6_incrna_embeddings)), test_set_6_labels)\n",
    "\n",
    "\n",
    "interaction_dataloader_train_1 = DataLoader(interaction_dataset_train_1, batch_size=32, shuffle=True)\n",
    "interaction_dataloader_train_2 = DataLoader(interaction_dataset_train_2, batch_size=32, shuffle=True)\n",
    "interaction_dataloader_train_3 = DataLoader(interaction_dataset_train_3, batch_size=32, shuffle=True)\n",
    "interaction_dataloader_train_4 = DataLoader(interaction_dataset_train_4, batch_size=32, shuffle=True)\n",
    "interaction_dataloader_train_5 = DataLoader(interaction_dataset_train_5, batch_size=32, shuffle=True)\n",
    "interaction_dataloader_train_6 = DataLoader(interaction_dataset_train_6, batch_size=32, shuffle=True)\n",
    "\n",
    "interaction_dataloader_test_1 = DataLoader(interaction_dataset_test_1, batch_size=32, shuffle=True)\n",
    "interaction_dataloader_test_2 = DataLoader(interaction_dataset_test_2, batch_size=32, shuffle=True)\n",
    "interaction_dataloader_test_3 = DataLoader(interaction_dataset_test_3, batch_size=32, shuffle=True)\n",
    "interaction_dataloader_test_4 = DataLoader(interaction_dataset_test_4, batch_size=32, shuffle=True)\n",
    "interaction_dataloader_test_5 = DataLoader(interaction_dataset_test_5, batch_size=32, shuffle=True)\n",
    "interaction_dataloader_test_6 = DataLoader(interaction_dataset_test_6, batch_size=32, shuffle=True)\n",
    "\n"
   ]
  },
  {
   "cell_type": "code",
   "execution_count": 24,
   "metadata": {},
   "outputs": [],
   "source": [
    "# for batch in interaction_dataset_train_1:\n",
    "#     # print(batch[0][0].shape, batch[0][1].shape, batch[1].shape)\n",
    "#     print(batch[1])\n",
    "#     # break"
   ]
  },
  {
   "cell_type": "code",
   "execution_count": 25,
   "metadata": {},
   "outputs": [],
   "source": [
    "def set_seed(seed):\n",
    "    torch.manual_seed(seed)\n",
    "    torch.cuda.manual_seed_all(seed)\n",
    "    torch.backends.cudnn.deterministic = True\n",
    "    torch.backends.cudnn.benchmark = False\n",
    "\n",
    "set_seed(42)"
   ]
  },
  {
   "cell_type": "code",
   "execution_count": 26,
   "metadata": {},
   "outputs": [],
   "source": [
    "# "
   ]
  },
  {
   "cell_type": "code",
   "execution_count": 27,
   "metadata": {},
   "outputs": [],
   "source": [
    "\n",
    "import torch.nn as nn\n",
    "\n",
    "\n",
    "class GatedFeatureFusion(nn.Module):\n",
    "    \"\"\"Gates to control the contribution of each path\"\"\"\n",
    "    def __init__(self, input_dim):\n",
    "        super().__init__()\n",
    "        self.gate = nn.Parameter(torch.rand(input_dim))\n",
    "\n",
    "    def forward(self, x1, x2):\n",
    "        # print(x1.shape, x2.shape)\n",
    "        gate_values = torch.sigmoid(self.gate)\n",
    "        return x1 * gate_values + x2 * (1 - gate_values), gate_values\n",
    "\n",
    "class DualPathNetwork(nn.Module):\n",
    "    def __init__(self, mirna_dim, incrna_dim, hidden_dim):\n",
    "        super().__init__()\n",
    "        self.mirna_path = nn.Sequential(\n",
    "            nn.Linear(mirna_dim, hidden_dim),\n",
    "            nn.ReLU(),\n",
    "            nn.Dropout(0.1)\n",
    "        )\n",
    "        self.rna_path = nn.Sequential(\n",
    "            nn.Linear(incrna_dim, hidden_dim),\n",
    "            nn.ReLU(),\n",
    "            nn.Dropout(0.1)\n",
    "        )\n",
    "        self.fusion = GatedFeatureFusion(hidden_dim)\n",
    "        self.classifier = nn.Sequential(\n",
    "            nn.Linear(hidden_dim, 256),\n",
    "            nn.ReLU(),\n",
    "            nn.Dropout(0.5),\n",
    "            nn.Linear(256, 128),\n",
    "            nn.ReLU(),\n",
    "            nn.Dropout(0.5),\n",
    "            nn.Linear(128, 1)\n",
    "        )\n",
    "\n",
    "    def forward(self, mirna_emb, incrna_emb):\n",
    "        mirna_features = self.mirna_path(mirna_emb)\n",
    "        incrna_features = self.rna_path(incrna_emb)\n",
    "        combined_features,gate_scores = self.fusion(mirna_features, incrna_features)\n",
    "        logits = self.classifier(combined_features)\n",
    "        return torch.sigmoid(logits), gate_scores\n",
    "\n",
    "\n",
    "model= DualPathNetwork(mirna_dim=768, incrna_dim=768, hidden_dim=512)"
   ]
  },
  {
   "cell_type": "code",
   "execution_count": 28,
   "metadata": {},
   "outputs": [],
   "source": [
    "\n",
    "\n",
    "# import torch\n",
    "# import torch.nn as nn\n",
    "# import torch.nn.functional as F\n",
    "\n",
    "# class mirnaRNAClassifier(nn.Module):\n",
    "#     def __init__(self, mirna_dim, incrna_dim):\n",
    "#         super().__init__()\n",
    "#         # Separate fully connected layers for mirna and RNA features\n",
    "#         self.mirna_fc = nn.Linear(mirna_dim, 512)  # Process mirna features\n",
    "#         self.incrna_fc = nn.Linear(incrna_dim, 512)          # Process RNA features\n",
    "        \n",
    "#         # Combined fully connected layers for the concatenated features\n",
    "#         self.combined_fc1 = nn.Linear(512 * 2, 512)\n",
    "#         self.combined_fc2 = nn.Linear(512, 256)\n",
    "#         self.combined_fc3 = nn.Linear(256, 1)  # Output layer for binary classification\n",
    "\n",
    "#     def forward(self, mirna, incrna):\n",
    "#         # Process mirna and RNA features through their respective fully connected layers\n",
    "#         mirna = F.relu(self.mirna_fc(mirna))\n",
    "#         incrna = F.relu(self.incrna_fc(incrna))\n",
    "        \n",
    "#         # Concatenate the processed features\n",
    "#         combined = torch.cat((mirna, incrna), dim=1)\n",
    "        \n",
    "#         # Fully connected layers with ReLU activations for the combined features\n",
    "#         x = F.relu(self.combined_fc1(combined))\n",
    "#         x = F.relu(self.combined_fc2(x))\n",
    "#         x = torch.sigmoid(self.combined_fc3(x)).squeeze(1)  # Use sigmoid for binary classification\n",
    "        \n",
    "#         return x\n",
    "\n",
    "\n",
    "\n",
    "# # Define the dimensions of the input features\n",
    "\n",
    "# mirna_dim = 768\n",
    "# incrna_dim = 768\n",
    "# # Initialize the model\n",
    "\n",
    "\n",
    "# # # count the number of trainable parameters in the model\n",
    "# # def count_parameters(model):\n",
    "# #     return sum(p.numel() for p in model.parameters() if p.requires_grad)\n",
    "\n",
    "# # print(f'The model has {count_parameters(model):,} trainable parameters')"
   ]
  },
  {
   "cell_type": "code",
   "execution_count": 29,
   "metadata": {},
   "outputs": [
    {
     "name": "stderr",
     "output_type": "stream",
     "text": [
      "100%|██████████| 100/100 [01:35<00:00,  1.05it/s]\n"
     ]
    },
    {
     "name": "stdout",
     "output_type": "stream",
     "text": [
      "MCC: 0.3963144681052972\n",
      "ACC: 0.6842\n"
     ]
    },
    {
     "name": "stderr",
     "output_type": "stream",
     "text": [
      "100%|██████████| 100/100 [01:39<00:00,  1.01it/s]\n"
     ]
    },
    {
     "name": "stdout",
     "output_type": "stream",
     "text": [
      "MCC: 0.3766065195542948\n",
      "ACC: 0.6878\n"
     ]
    },
    {
     "name": "stderr",
     "output_type": "stream",
     "text": [
      "100%|██████████| 100/100 [01:41<00:00,  1.01s/it]\n"
     ]
    },
    {
     "name": "stdout",
     "output_type": "stream",
     "text": [
      "MCC: 0.7284528518796478\n",
      "ACC: 0.8559711942388478\n"
     ]
    },
    {
     "name": "stderr",
     "output_type": "stream",
     "text": [
      "100%|██████████| 100/100 [01:37<00:00,  1.02it/s]\n"
     ]
    },
    {
     "name": "stdout",
     "output_type": "stream",
     "text": [
      "MCC: 0.38688325807933\n",
      "ACC: 0.69\n"
     ]
    },
    {
     "name": "stderr",
     "output_type": "stream",
     "text": [
      "100%|██████████| 100/100 [02:07<00:00,  1.27s/it]\n"
     ]
    },
    {
     "name": "stdout",
     "output_type": "stream",
     "text": [
      "MCC: 0.6917399457213752\n",
      "ACC: 0.8431686337267453\n"
     ]
    },
    {
     "name": "stderr",
     "output_type": "stream",
     "text": [
      "100%|██████████| 100/100 [02:12<00:00,  1.33s/it]"
     ]
    },
    {
     "name": "stdout",
     "output_type": "stream",
     "text": [
      "MCC: 0.442032953749511\n",
      "ACC: 0.7168\n"
     ]
    },
    {
     "name": "stderr",
     "output_type": "stream",
     "text": [
      "\n"
     ]
    }
   ],
   "source": [
    "\n",
    "import torch.optim as optim\n",
    "import numpy as np\n",
    "from sklearn.metrics import matthews_corrcoef\n",
    "from tqdm import tqdm\n",
    "\n",
    "# Define the optimizer and loss function\n",
    "# model = mirnaRNAClassifier(mirna_dim, incrna_dim)\n",
    "\n",
    "\n",
    "optimizer = optim.Adam(model.parameters(), lr=0.001)\n",
    "criterion = nn.BCELoss()\n",
    "\n",
    "# Device configuration\n",
    "device = torch.device(\"cuda\" if torch.cuda.is_available() else \"cpu\")\n",
    "model.to(device)\n",
    "\n",
    "# Function to calculate MCC\n",
    "def calculate_mcc(y_true, y_pred):\n",
    "    y_pred = np.round(y_pred)\n",
    "    return matthews_corrcoef(y_true, y_pred)\n",
    "\n",
    "# Training and validation function\n",
    "def train_model(model, train_loader, val_loader, epochs):\n",
    "    max_mcc=0\n",
    "    max_acc=0\n",
    "    for epoch in tqdm(range(epochs)):\n",
    "        model.train()\n",
    "        train_labels = []\n",
    "        train_preds = []\n",
    "        for embeddings, labels in train_loader:\n",
    "            mirna_emb, rna_emb = embeddings\n",
    "            mirna_emb, rna_emb, labels = mirna_emb.to(device), rna_emb.to(device), labels.to(device)\n",
    "\n",
    "            # print(mirna_emb.shape)\n",
    "            # print(rna_emb.shape)\n",
    "            # print(labels.shape)\n",
    "            \n",
    "            optimizer.zero_grad()\n",
    "            outputs ,_= model(mirna_emb, rna_emb)\n",
    "            outputs = outputs.squeeze()\n",
    "            # print(outputs)\n",
    "            loss = criterion(outputs, labels.float())\n",
    "            loss.backward()\n",
    "            optimizer.step()\n",
    "            train_labels.extend(labels.tolist())\n",
    "            train_preds.extend(outputs.detach().cpu().numpy())\n",
    "        \n",
    "        train_mcc = calculate_mcc(train_labels, train_preds)\n",
    "        train_acc = np.mean(np.round(train_preds) == train_labels)\n",
    "        \n",
    "        # Validation loop\n",
    "        model.eval()\n",
    "        with torch.no_grad():\n",
    "            val_labels = []\n",
    "            val_preds = []\n",
    "            for embeddings, labels in val_loader:\n",
    "                mirna_emb, rna_emb = embeddings\n",
    "                mirna_emb, rna_emb, labels = mirna_emb.to(device), rna_emb.to(device), labels.to(device)\n",
    "                outputs ,_= model(mirna_emb, rna_emb)\n",
    "                outputs = outputs.squeeze()\n",
    "                val_labels.extend(labels.tolist())\n",
    "                val_preds.extend(outputs.cpu().numpy())\n",
    "        \n",
    "        val_mcc = calculate_mcc(val_labels, val_preds)\n",
    "        val_acc = np.mean(np.round(val_preds) == val_labels)\n",
    "        max_mcc = max(max_mcc,val_mcc)\n",
    "        max_acc = max(max_acc,val_acc)\n",
    "        # print(f'Epoch {epoch+1}, Train MCC: {train_mcc:.4f}, Val MCC: {val_mcc:.4f}, Train Acc: {train_acc:.4f}, Val Acc: {val_acc:.4f}')\n",
    "    print(f'MCC: {max_mcc}')\n",
    "    print(f'ACC: {max_acc}')\n",
    "\n",
    "# Run the training\n",
    "train_model(model, interaction_dataloader_train_1, interaction_dataloader_test_1, epochs=100)\n",
    "\n",
    "train_model(model, interaction_dataloader_train_2, interaction_dataloader_test_2, epochs=100)\n",
    "\n",
    "train_model(model, interaction_dataloader_train_3, interaction_dataloader_test_3, epochs=100)\n",
    "\n",
    "train_model(model, interaction_dataloader_train_4, interaction_dataloader_test_4, epochs=100)\n",
    "\n",
    "train_model(model, interaction_dataloader_train_5, interaction_dataloader_test_5, epochs=100)\n",
    "\n",
    "train_model(model, interaction_dataloader_train_6, interaction_dataloader_test_6, epochs=100)\n",
    "\n"
   ]
  },
  {
   "cell_type": "code",
   "execution_count": 202,
   "metadata": {},
   "outputs": [
    {
     "name": "stdout",
     "output_type": "stream",
     "text": [
      "Val MCC: 0.3396\n"
     ]
    }
   ],
   "source": [
    "model.eval()\n",
    "with torch.no_grad():\n",
    "    val_labels = []\n",
    "    val_preds = []\n",
    "    for embeddings, labels in interaction_dataloader_test_1:\n",
    "        mirna_emb, rna_emb = embeddings\n",
    "        mirna_emb, rna_emb, labels = mirna_emb.to(device), rna_emb.to(device), labels.to(device)\n",
    "        outputs ,_= model(mirna_emb, rna_emb)\n",
    "        outputs = outputs.squeeze()\n",
    "        val_labels.extend(labels.tolist())\n",
    "        val_preds.extend(outputs.cpu().numpy())\n",
    "\n",
    "val_mcc = calculate_mcc(val_labels, val_preds)\n",
    "print(f'Val MCC: {val_mcc:.4f}')"
   ]
  }
 ],
 "metadata": {
  "kernelspec": {
   "display_name": "thesis",
   "language": "python",
   "name": "python3"
  },
  "language_info": {
   "codemirror_mode": {
    "name": "ipython",
    "version": 3
   },
   "file_extension": ".py",
   "mimetype": "text/x-python",
   "name": "python",
   "nbconvert_exporter": "python",
   "pygments_lexer": "ipython3",
   "version": "3.11.5"
  }
 },
 "nbformat": 4,
 "nbformat_minor": 2
}
